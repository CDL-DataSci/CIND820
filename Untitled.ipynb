{
 "cells": [
  {
   "cell_type": "code",
   "execution_count": 5,
   "id": "4a984538-7a3d-4000-8c22-1b114b5d3c53",
   "metadata": {
    "execution": {
     "iopub.execute_input": "2024-03-26T05:05:41.102526Z",
     "iopub.status.busy": "2024-03-26T05:05:41.101771Z",
     "iopub.status.idle": "2024-03-26T05:05:41.865730Z",
     "shell.execute_reply": "2024-03-26T05:05:41.864783Z",
     "shell.execute_reply.started": "2024-03-26T05:05:41.102494Z"
    }
   },
   "outputs": [
    {
     "name": "stdout",
     "output_type": "stream",
     "text": [
      "BERTopic_Model.ipynb  README.md                  \u001b[0m\u001b[01;34mquick_start_pytorch_images\u001b[0m/\n",
      "Bertopic              Untitled.ipynb             unzipfile.sh\n",
      "New                   quick_start_pytorch.ipynb\n"
     ]
    }
   ],
   "source": [
    "ls"
   ]
  }
 ],
 "metadata": {
  "kernelspec": {
   "display_name": "Python 3 (ipykernel)",
   "language": "python",
   "name": "python3"
  },
  "language_info": {
   "codemirror_mode": {
    "name": "ipython",
    "version": 3
   },
   "file_extension": ".py",
   "mimetype": "text/x-python",
   "name": "python",
   "nbconvert_exporter": "python",
   "pygments_lexer": "ipython3",
   "version": "3.9.16"
  }
 },
 "nbformat": 4,
 "nbformat_minor": 5
}
